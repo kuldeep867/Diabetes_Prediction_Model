{
 "cells": [
  {
   "cell_type": "code",
   "execution_count": null,
   "id": "7e72211b",
   "metadata": {},
   "outputs": [],
   "source": [
    "import os\n",
    "import pandas as pd\n",
    "import numpy as np\n",
    "import matplotlib.pyplot as plt\n",
    "from sklearn import tree\n",
    "from sklearn.model_selection import train_test_split\n",
    "from sklearn.metrics import average_precision_score\n",
    "from sklearn.metrics import precision_recall_curve\n",
    "from sklearn.linear_model import LogisticRegression\n",
    "from sklearn.metrics import classification_report\n",
    "from sklearn.preprocessing import MinMaxScaler\n",
    "from sklearn.model_selection import train_test_split\n",
    "from sklearn.tree import DecisionTreeClassifier\n",
    "from sklearn.ensemble import RandomForestClassifier\n",
    "from sklearn.linear_model import LogisticRegression\n",
    "from sklearn.neighbors import  KNeighborsClassifier\n",
    "import seaborn as sns\n",
    "from sklearn.metrics import accuracy_score, precision_score, recall_score, f1_score, confusion_matrix, plot_confusion_matrix\n",
    "import plotly.offline as py\n",
    "import plotly.graph_objs as go\n",
    "from plotly.offline import download_plotlyjs, init_notebook_mode, plot, iplot\n",
    "import plotly.tools as tls\n",
    "import plotly.figure_factory as ff\n",
    "py.init_notebook_mode(connected=True)\n",
    "from sklearn.svm import SVC"
   ]
  },
  {
   "cell_type": "markdown",
   "id": "f28fe2a5",
   "metadata": {},
   "source": [
    "# Data Analysis "
   ]
  },
  {
   "cell_type": "markdown",
   "id": "e6160f07",
   "metadata": {},
   "source": [
    "##### 1. Number of times pregnant\n",
    "##### 2. Plasma glucose concentration a 2 hours in an oral glucose tolerance test\n",
    "##### 3. Diastolic blood pressure (mm Hg)\n",
    "##### 4. Triceps skin fold thickness (mm)\n",
    "##### 5. 2-Hour serum insulin (mu U/ml)\n",
    "##### 6. Body mass index (weight in kg/(height in m)^2)\n",
    "##### 7. Diabetes pedigree function\n",
    "##### 8. Age (years)\n",
    "##### 9. Class variable (0 or 1)"
   ]
  },
  {
   "cell_type": "code",
   "execution_count": null,
   "id": "cdff169f",
   "metadata": {},
   "outputs": [],
   "source": [
    "dataset=pd.read_csv(\"diabetes.csv\")"
   ]
  },
  {
   "cell_type": "code",
   "execution_count": null,
   "id": "6a7ca7a9",
   "metadata": {},
   "outputs": [],
   "source": [
    "dataset"
   ]
  },
  {
   "cell_type": "code",
   "execution_count": null,
   "id": "7c52961c",
   "metadata": {},
   "outputs": [],
   "source": [
    "dataset.head()"
   ]
  },
  {
   "cell_type": "code",
   "execution_count": null,
   "id": "0954e58e",
   "metadata": {},
   "outputs": [],
   "source": [
    "dataset.describe()"
   ]
  },
  {
   "cell_type": "code",
   "execution_count": null,
   "id": "8acf2d46",
   "metadata": {},
   "outputs": [],
   "source": [
    "dataset.info()"
   ]
  },
  {
   "cell_type": "code",
   "execution_count": null,
   "id": "288ec0be",
   "metadata": {},
   "outputs": [],
   "source": [
    "dataset[\"Outcome\"].value_counts()"
   ]
  },
  {
   "cell_type": "markdown",
   "id": "6f8a9685",
   "metadata": {},
   "source": [
    "# maxmuim value of Insulin where patient has high propapilty for diabetes"
   ]
  },
  {
   "cell_type": "code",
   "execution_count": null,
   "id": "f7c054bb",
   "metadata": {},
   "outputs": [],
   "source": [
    "dataset[dataset['Outcome']== 1]['Insulin'].max()"
   ]
  },
  {
   "cell_type": "markdown",
   "id": "21a318e7",
   "metadata": {},
   "source": [
    "# maxmuim value of Glucose where patient has high propapilty for diabetes"
   ]
  },
  {
   "cell_type": "code",
   "execution_count": null,
   "id": "b797d5d5",
   "metadata": {},
   "outputs": [],
   "source": [
    "dataset[dataset['Outcome']== 1]['Glucose'].max()"
   ]
  },
  {
   "cell_type": "code",
   "execution_count": null,
   "id": "11af3bf2",
   "metadata": {},
   "outputs": [],
   "source": [
    "dataset['Pregnancies'].nunique()"
   ]
  },
  {
   "cell_type": "markdown",
   "id": "d0a3675f",
   "metadata": {},
   "source": [
    "# number of Pregnancy times where patient has high propapilty for diabetes"
   ]
  },
  {
   "cell_type": "code",
   "execution_count": null,
   "id": "301055ef",
   "metadata": {},
   "outputs": [],
   "source": [
    "dataset[dataset['Outcome']== 1]['Pregnancies'].value_counts()"
   ]
  },
  {
   "cell_type": "code",
   "execution_count": null,
   "id": "bb2791b7",
   "metadata": {},
   "outputs": [],
   "source": [
    "dataset[dataset['Outcome']== 0]['Pregnancies'].value_counts()"
   ]
  },
  {
   "cell_type": "code",
   "execution_count": null,
   "id": "bf2b0626",
   "metadata": {},
   "outputs": [],
   "source": [
    "def age_count(x):\n",
    "    if x in (dataset[dataset['Outcome']== 0]['Age']):\n",
    "        return False\n",
    "    else:\n",
    "        return x"
   ]
  },
  {
   "cell_type": "markdown",
   "id": "bd439793",
   "metadata": {},
   "source": [
    "# get ages which have only the propapilty to have diabetes"
   ]
  },
  {
   "cell_type": "code",
   "execution_count": null,
   "id": "60f1f262",
   "metadata": {},
   "outputs": [],
   "source": [
    "dataset[dataset['Outcome']== 1]['Age'].apply(lambda x: age_count(x)).value_counts()"
   ]
  },
  {
   "cell_type": "markdown",
   "id": "bca8cb61",
   "metadata": {},
   "source": [
    "#  Data Visualization"
   ]
  },
  {
   "cell_type": "code",
   "execution_count": null,
   "id": "772d5342",
   "metadata": {},
   "outputs": [],
   "source": [
    "sns.countplot(dataset[\"Outcome\"])"
   ]
  },
  {
   "cell_type": "code",
   "execution_count": null,
   "id": "7717f1b8",
   "metadata": {},
   "outputs": [],
   "source": [
    "dataset.groupby(by=\"Pregnancies\")[\"Outcome\"].sum().sort_values(ascending=False).plot(kind = \"bar\")\n",
    "plt.show()"
   ]
  },
  {
   "cell_type": "code",
   "execution_count": null,
   "id": "47d3397c",
   "metadata": {},
   "outputs": [],
   "source": [
    "plt.figure(figsize = (7, 4))\n",
    "sns.distplot(dataset[\"Glucose\"])\n",
    "plt.show(\"Glucose distribution plot\")\n",
    "plt.show()"
   ]
  },
  {
   "cell_type": "code",
   "execution_count": null,
   "id": "cd356ce6",
   "metadata": {},
   "outputs": [],
   "source": [
    "plt.figure(figsize = (7, 4))\n",
    "sns.distplot(dataset[\"Glucose\"])\n",
    "plt.show(\"Glucose distribution plot after Imputing with mean\")\n",
    "plt.show()"
   ]
  },
  {
   "cell_type": "code",
   "execution_count": null,
   "id": "2df3d695",
   "metadata": {},
   "outputs": [],
   "source": [
    "plt.figure(figsize = (7, 4))\n",
    "sns.distplot(dataset[\"BloodPressure\"])\n",
    "plt.title(\"BloodPressure Distribution Plot\")\n",
    "plt.show()"
   ]
  },
  {
   "cell_type": "code",
   "execution_count": null,
   "id": "73957054",
   "metadata": {},
   "outputs": [],
   "source": [
    "continuous_data_cols = ['Glucose', 'BloodPressure', 'SkinThickness', 'Insulin','BMI', 'DiabetesPedigreeFunction', 'Age']\n",
    "plt.figure(figsize = (11,7))\n",
    "sns.heatmap(dataset[continuous_data_cols].corr(), center = 0, annot = True)\n",
    "plt.title(\"Correlation Plot\")\n",
    "plt.show()"
   ]
  },
  {
   "cell_type": "code",
   "execution_count": null,
   "id": "da592a96",
   "metadata": {},
   "outputs": [],
   "source": [
    "print(dataset.isnull().sum())\n",
    "dataset.isnull().sum().plot(kind = \"bar\")\n",
    "plt.title(\"NaN values Plot\")\n",
    "plt.show()"
   ]
  },
  {
   "cell_type": "code",
   "execution_count": null,
   "id": "32e4cacb",
   "metadata": {},
   "outputs": [],
   "source": [
    "sns.pairplot(dataset,hue='Outcome')"
   ]
  },
  {
   "cell_type": "code",
   "execution_count": null,
   "id": "571fbcdc",
   "metadata": {},
   "outputs": [],
   "source": [
    "sns.heatmap(dataset.corr(),cmap='coolwarm')"
   ]
  },
  {
   "cell_type": "code",
   "execution_count": null,
   "id": "947d6fcc",
   "metadata": {},
   "outputs": [],
   "source": [
    "sns.jointplot(data=dataset ,x='Glucose', y='Insulin', kind=\"hex\")"
   ]
  },
  {
   "cell_type": "code",
   "execution_count": null,
   "id": "e8b0f7f7",
   "metadata": {},
   "outputs": [],
   "source": [
    "def target_percent():\n",
    "    trace = go.Pie(labels = ['healthy','diabetic'], values = dataset['Outcome'].value_counts(), \n",
    "                   textfont=dict(size=15), opacity = 0.8,\n",
    "                   marker=dict(colors=['lightskyblue', 'gold'], \n",
    "                               line=dict(color='#000000', width=1.5)))\n",
    "\n",
    "\n",
    "    layout = dict(title =  'Distribution of Outcome variable')\n",
    "\n",
    "    fig = dict(data = [trace], layout=layout)\n",
    "    py.iplot(fig)"
   ]
  },
  {
   "cell_type": "code",
   "execution_count": null,
   "id": "9009a1dd",
   "metadata": {},
   "outputs": [],
   "source": [
    "target_percent()"
   ]
  },
  {
   "cell_type": "code",
   "execution_count": null,
   "id": "fda2635b",
   "metadata": {},
   "outputs": [],
   "source": [
    "plt.style.use('ggplot') # Using ggplot2 style visuals \n",
    "\n",
    "f, ax = plt.subplots(figsize=(11, 15))\n",
    "\n",
    "ax.set_facecolor('#fafafa')\n",
    "ax.set(xlim=(-.05, 200))\n",
    "plt.ylabel('Variables')\n",
    "plt.title(\"Overview Data Set\")\n",
    "ax = sns.boxplot(data = dataset, \n",
    "  orient = 'h', \n",
    "  palette = 'Set2')"
   ]
  },
  {
   "cell_type": "code",
   "execution_count": null,
   "id": "b486b294",
   "metadata": {},
   "outputs": [],
   "source": [
    "def correlation_plot():\n",
    "    #correlation\n",
    "    correlation = dataset.corr()\n",
    "    #tick labels\n",
    "    matrix_cols = correlation.columns.tolist()\n",
    "    #convert to array\n",
    "    corr_array  = np.array(correlation)\n",
    "    trace = go.Heatmap(z = corr_array,\n",
    "                       x = matrix_cols,\n",
    "                       y = matrix_cols,\n",
    "                       colorscale='Viridis',\n",
    "                       colorbar   = dict() ,\n",
    "                      )\n",
    "    layout = go.Layout(dict(title = 'Correlation Matrix for variables',\n",
    "                            #autosize = False,\n",
    "                            #height  = 1400,\n",
    "                            #width   = 1600,\n",
    "                            margin  = dict(r = 0 ,l = 100,\n",
    "                                           t = 0,b = 100,\n",
    "                                         ),\n",
    "                            yaxis   = dict(tickfont = dict(size = 9)),\n",
    "                            xaxis   = dict(tickfont = dict(size = 9)),\n",
    "                           )\n",
    "                      )\n",
    "    fig = go.Figure(data = [trace],layout = layout)\n",
    "    py.iplot(fig)"
   ]
  },
  {
   "cell_type": "code",
   "execution_count": null,
   "id": "9675ac65",
   "metadata": {},
   "outputs": [],
   "source": [
    "correlation_plot()"
   ]
  },
  {
   "cell_type": "code",
   "execution_count": null,
   "id": "bb99ecbc",
   "metadata": {},
   "outputs": [],
   "source": [
    "def plot_feat1_feat2(feat1, feat2) :  \n",
    "    D = dataset[(dataset['Outcome'] != 0)]\n",
    "    H = dataset[(dataset['Outcome'] == 0)]\n",
    "    trace0 = go.Scatter(\n",
    "        x = D[feat1],\n",
    "        y = D[feat2],\n",
    "        name = 'diabetic',\n",
    "        mode = 'markers', \n",
    "        marker = dict(color = '#FFD700',\n",
    "            line = dict(\n",
    "                width = 1)))\n",
    "\n",
    "    trace1 = go.Scatter(\n",
    "        x = H[feat1],\n",
    "        y = H[feat2],\n",
    "        name = 'healthy',\n",
    "        mode = 'markers',\n",
    "        marker = dict(color = '#7EC0EE',\n",
    "            line = dict(\n",
    "                width = 1)))\n",
    "\n",
    "    layout = dict(title = feat1 +\" \"+\"vs\"+\" \"+ feat2,\n",
    "                  yaxis = dict(title = feat2,zeroline = False),\n",
    "                  xaxis = dict(title = feat1, zeroline = False)\n",
    "                 )\n",
    "\n",
    "    plots = [trace0, trace1]\n",
    "\n",
    "    fig = dict(data = plots, layout=layout)\n",
    "    py.iplot(fig)"
   ]
  },
  {
   "cell_type": "code",
   "execution_count": null,
   "id": "dae35d4d",
   "metadata": {},
   "outputs": [],
   "source": [
    "plot_feat1_feat2('Glucose','Age')"
   ]
  },
  {
   "cell_type": "code",
   "execution_count": null,
   "id": "6be65797",
   "metadata": {},
   "outputs": [],
   "source": [
    "plot_feat1_feat2('Pregnancies','Age')"
   ]
  },
  {
   "cell_type": "code",
   "execution_count": null,
   "id": "a37d622c",
   "metadata": {},
   "outputs": [],
   "source": [
    "plot_feat1_feat2('Glucose','BloodPressure')"
   ]
  },
  {
   "cell_type": "code",
   "execution_count": null,
   "id": "f4c6e879",
   "metadata": {},
   "outputs": [],
   "source": [
    "sns.set_style('whitegrid')\n",
    "sns.countplot(x='Pregnancies',hue='Outcome',data=dataset,palette='RdBu_r')"
   ]
  },
  {
   "cell_type": "code",
   "execution_count": null,
   "id": "ed6a2f84",
   "metadata": {},
   "outputs": [],
   "source": [
    "y=dataset['Outcome']\n",
    "x=dataset.drop('Outcome',axis=1)"
   ]
  },
  {
   "cell_type": "code",
   "execution_count": null,
   "id": "79bea494",
   "metadata": {},
   "outputs": [],
   "source": [
    "X_train,X_test,Y_train,Y_test=train_test_split(x,y,test_size=0.3, random_state=101)"
   ]
  },
  {
   "cell_type": "markdown",
   "id": "fd748129",
   "metadata": {},
   "source": [
    "# 1. Building a Logistic Regression model"
   ]
  },
  {
   "cell_type": "code",
   "execution_count": null,
   "id": "88d092b8",
   "metadata": {},
   "outputs": [],
   "source": [
    "logmodel = LogisticRegression()\n",
    "logmodel.fit(X_train,Y_train)"
   ]
  },
  {
   "cell_type": "code",
   "execution_count": null,
   "id": "6143cf44",
   "metadata": {},
   "outputs": [],
   "source": [
    "predictions = logmodel.predict(X_test)"
   ]
  },
  {
   "cell_type": "code",
   "execution_count": null,
   "id": "645b4b3c",
   "metadata": {},
   "outputs": [],
   "source": [
    "print(confusion_matrix(Y_test,predictions))"
   ]
  },
  {
   "cell_type": "code",
   "execution_count": null,
   "id": "7639f65d",
   "metadata": {},
   "outputs": [],
   "source": [
    "print(classification_report(Y_test,predictions))"
   ]
  },
  {
   "cell_type": "code",
   "execution_count": null,
   "id": "25d22504",
   "metadata": {},
   "outputs": [],
   "source": [
    "precision, recall, _ = precision_recall_curve(Y_test, predictions)\n",
    "plt.step(recall, precision, color='b', alpha=0.2,\n",
    "         where='post')\n",
    "average_precision = average_precision_score(Y_test,predictions)\n",
    "\n",
    "plt.fill_between(recall, precision, step='post', alpha=0.2,color='b')\n",
    "plt.xlabel('Recall')\n",
    "plt.ylabel('Precision')\n",
    "plt.ylim([0.0, 1.05])\n",
    "plt.xlim([0.0, 1.0])\n",
    "plt.title('2-class Precision-Recall curve: AP={0:0.2f}'.format(\n",
    "          average_precision))\n",
    "plt.show()"
   ]
  },
  {
   "cell_type": "markdown",
   "id": "a4ca7860",
   "metadata": {},
   "source": [
    "# 2. Building a Decision tree model"
   ]
  },
  {
   "cell_type": "code",
   "execution_count": null,
   "id": "0726d381",
   "metadata": {},
   "outputs": [],
   "source": [
    "clf=tree.DecisionTreeClassifier(criterion='gini',min_samples_split=30,splitter=\"best\")\n",
    "clf=clf.fit(X_train,Y_train)\n",
    "y_pred=clf.predict(X_test)"
   ]
  },
  {
   "cell_type": "code",
   "execution_count": null,
   "id": "6b12e9a5",
   "metadata": {},
   "outputs": [],
   "source": [
    "accuracy=accuracy_score(Y_test,y_pred)\n",
    "average_precision = average_precision_score(Y_test,y_pred)\n",
    "\n",
    "from sklearn.metrics import classification_report,confusion_matrix\n",
    "print(confusion_matrix(Y_test,y_pred))\n"
   ]
  },
  {
   "cell_type": "code",
   "execution_count": null,
   "id": "389f4ebe",
   "metadata": {},
   "outputs": [],
   "source": [
    "print(classification_report(Y_test,y_pred))"
   ]
  },
  {
   "cell_type": "code",
   "execution_count": null,
   "id": "17221607",
   "metadata": {},
   "outputs": [],
   "source": [
    "precision, recall, _ = precision_recall_curve(Y_test, y_pred)\n",
    "plt.step(recall, precision, color='b', alpha=0.2,\n",
    "         where='post')\n",
    "\n",
    "plt.fill_between(recall, precision, step='post', alpha=0.2,color='b')\n",
    "plt.xlabel('Recall')\n",
    "plt.ylabel('Precision')\n",
    "plt.ylim([0.0, 1.05])\n",
    "plt.xlim([0.0, 1.0])\n",
    "plt.title('2-class Precision-Recall curve: AP={0:0.2f}'.format(\n",
    "          average_precision))\n",
    "plt.show()"
   ]
  },
  {
   "cell_type": "code",
   "execution_count": null,
   "id": "8d339559",
   "metadata": {},
   "outputs": [],
   "source": [
    "# Accuray On Test Data\n",
    "accuracy = accuracy_score(Y_test, predictions)\n",
    "print(f\"Accuracy on Test Data: {accuracy*100}%\")\n",
    "print(f\"Precision Score: {precision_score(Y_test, predictions)}\")\n",
    "print(f\"Recall Score: {recall_score(Y_test, predictions)}\")\n",
    "print(f\"F1 Score: {f1_score(Y_test, predictions)}\")\n",
    "plt.title(\"Confusion Matrix for Test Data\")\n",
    "plt.plot()\n",
    "plt.show()\n"
   ]
  },
  {
   "cell_type": "markdown",
   "id": "eea0708e",
   "metadata": {},
   "source": [
    "# 3.Building A KNN model"
   ]
  },
  {
   "cell_type": "code",
   "execution_count": null,
   "id": "f2835abf",
   "metadata": {},
   "outputs": [],
   "source": [
    "knn=KNeighborsClassifier()\n",
    "knn.fit(X_train,Y_train)\n",
    "y_pred_knn=knn.predict(X_test)"
   ]
  },
  {
   "cell_type": "code",
   "execution_count": null,
   "id": "897683ec",
   "metadata": {},
   "outputs": [],
   "source": [
    "accuracy=accuracy_score(Y_test,y_pred_knn)\n",
    "average_precision = average_precision_score(Y_test,y_pred_knn)\n",
    "\n",
    "from sklearn.metrics import classification_report,confusion_matrix\n",
    "print(confusion_matrix(Y_test,y_pred_knn))"
   ]
  },
  {
   "cell_type": "code",
   "execution_count": null,
   "id": "56ab2166",
   "metadata": {},
   "outputs": [],
   "source": [
    "print(classification_report(Y_test,y_pred_knn))"
   ]
  },
  {
   "cell_type": "code",
   "execution_count": null,
   "id": "36b3e867",
   "metadata": {},
   "outputs": [],
   "source": [
    "precision, recall, _ = precision_recall_curve(Y_test, y_pred_knn)\n",
    "plt.step(recall, precision, color='b', alpha=0.2,\n",
    "         where='post')\n",
    "\n",
    "plt.fill_between(recall, precision, step='post', alpha=0.2,color='b')\n",
    "plt.xlabel('Recall')\n",
    "plt.ylabel('Precision')\n",
    "plt.ylim([0.0, 1.05])\n",
    "plt.xlim([0.0, 1.0])\n",
    "plt.title('2-class Precision-Recall curve: AP={0:0.2f}'.format(\n",
    "          average_precision))\n",
    "plt.show()"
   ]
  },
  {
   "cell_type": "markdown",
   "id": "e360e6c8",
   "metadata": {},
   "source": [
    "# 4. Building Svm Model"
   ]
  },
  {
   "cell_type": "code",
   "execution_count": null,
   "id": "f81699b5",
   "metadata": {},
   "outputs": [],
   "source": [
    "Svm_model=SVC()\n",
    "Svm_model.fit(X_train,Y_train)\n",
    "y_pred_svm=Svm_model.predict(X_test)"
   ]
  },
  {
   "cell_type": "code",
   "execution_count": null,
   "id": "f3076030",
   "metadata": {},
   "outputs": [],
   "source": [
    "accuracy=accuracy_score(Y_test,y_pred_svm)\n",
    "average_precision = average_precision_score(Y_test,y_pred_svm)\n",
    "\n",
    "from sklearn.metrics import classification_report,confusion_matrix\n",
    "print(confusion_matrix(Y_test,y_pred_svm))"
   ]
  },
  {
   "cell_type": "code",
   "execution_count": null,
   "id": "a5218eb9",
   "metadata": {},
   "outputs": [],
   "source": [
    "precision, recall, _ = precision_recall_curve(Y_test, y_pred_svm)\n",
    "plt.step(recall, precision, color='b', alpha=0.2,\n",
    "         where='post')\n",
    "\n",
    "plt.fill_between(recall, precision, step='post', alpha=0.2,color='b')\n",
    "plt.xlabel('Recall')\n",
    "plt.ylabel('Precision')\n",
    "plt.ylim([0.0, 1.05])\n",
    "plt.xlim([0.0, 1.0])\n",
    "plt.title('2-class Precision-Recall curve: AP={0:0.2f}'.format(\n",
    "          average_precision))\n",
    "plt.show()"
   ]
  },
  {
   "cell_type": "markdown",
   "id": "1b675246",
   "metadata": {},
   "source": [
    "# Building Random Forest Model"
   ]
  },
  {
   "cell_type": "code",
   "execution_count": null,
   "id": "2e0feaa6",
   "metadata": {},
   "outputs": [],
   "source": [
    "Random_forest=RandomForestClassifier()\n",
    "Random_forest.fit(X_train,Y_train)\n",
    "y_pred_forest=Random_forest.predict(X_test)"
   ]
  },
  {
   "cell_type": "code",
   "execution_count": null,
   "id": "daca1ed5",
   "metadata": {},
   "outputs": [],
   "source": [
    "accuracy=accuracy_score(Y_test,y_pred_forest)\n",
    "average_precision = average_precision_score(Y_test,y_pred_forest)\n",
    "\n",
    "from sklearn.metrics import classification_report,confusion_matrix\n",
    "print(confusion_matrix(Y_test,y_pred_forest))"
   ]
  },
  {
   "cell_type": "code",
   "execution_count": null,
   "id": "f1c01667",
   "metadata": {},
   "outputs": [],
   "source": []
  }
 ],
 "metadata": {
  "kernelspec": {
   "display_name": "Python 3 (ipykernel)",
   "language": "python",
   "name": "python3"
  },
  "language_info": {
   "codemirror_mode": {
    "name": "ipython",
    "version": 3
   },
   "file_extension": ".py",
   "mimetype": "text/x-python",
   "name": "python",
   "nbconvert_exporter": "python",
   "pygments_lexer": "ipython3",
   "version": "3.9.12"
  }
 },
 "nbformat": 4,
 "nbformat_minor": 5
}
